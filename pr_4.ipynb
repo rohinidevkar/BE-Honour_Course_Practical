{
 "cells": [
  {
   "cell_type": "code",
   "execution_count": 2,
   "id": "59ee41b4",
   "metadata": {},
   "outputs": [],
   "source": [
    "import pandas as pd\n",
    "import numpy as np\n",
    "import re\n",
    "import math\n",
    "from sklearn.feature_extraction.text import CountVectorizer \n",
    "from sklearn.feature_extraction.text import TfidfTransformer\n",
    "from sklearn.neighbors import KNeighborsClassifier\n",
    "from sklearn.model_selection import KFold\n",
    "from sklearn.metrics import precision_recall_fscore_support\n",
    "from scipy import sparse\n",
    "from nltk.corpus import stopwords\n",
    "from nltk.stem import PorterStemmer"
   ]
  },
  {
   "cell_type": "code",
   "execution_count": 11,
   "id": "956f8bcb",
   "metadata": {},
   "outputs": [
    {
     "ename": "IndentationError",
     "evalue": "unindent does not match any outer indentation level (<tokenize>, line 15)",
     "output_type": "error",
     "traceback": [
      "\u001b[1;36m  File \u001b[1;32m\"<tokenize>\"\u001b[1;36m, line \u001b[1;32m15\u001b[0m\n\u001b[1;33m    tempString = re.sub(r'(?i)\\b((?:[a-z][\\w-]+:(?:/{1,3}|[a\u0002z0-9%])|www\\d{0,3}[.]|[a-z0-9.\\-]+[.][a\u0002z]{2,4}/)(?:[^\\s()<>]+|\\(([^\\s()<>]+|(\\([^\\s()<>]+\\)))*\\))+(?:\\(([^\\s()<>]+|(\\([^\\s()<>]+\\)))*\\)|[^\\s`!()\\[\\]{};:\\'\".,<>?«»“”‘’]))',' ',tempString)\u001b[0m\n\u001b[1;37m    ^\u001b[0m\n\u001b[1;31mIndentationError\u001b[0m\u001b[1;31m:\u001b[0m unindent does not match any outer indentation level\n"
     ]
    }
   ],
   "source": [
    "def formatTweets(fileLocation):\n",
    "       dataFrameVals = pd.read_excel(fileLocation)\n",
    "       p = PorterStemmer()\n",
    "       stopWords = set(stopwords.words(\"english\"))\n",
    "       tweetList=dataFrameVals['Tweet']\n",
    "       classList=dataFrameVals['Class']\n",
    "       formattedTweets = []\n",
    "       classes = []\n",
    "       for record,label in zip(tweetList,classList):\n",
    "          if(isinstance(label, str) != True):\n",
    "               if (label !=2 and math.isnan(label) !=True):\n",
    "                     regexHTMLRemove = re.compile(r'<.*?>')\n",
    "                     tempString = regexHTMLRemove.sub('',str(record)).lower() \n",
    "                    #Replace all URLS\n",
    "                    tempString = re.sub(r'(?i)\\b((?:[a-z][\\w-]+:(?:/{1,3}|[a\u0002z0-9%])|www\\d{0,3}[.]|[a-z0-9.\\-]+[.][a\u0002z]{2,4}/)(?:[^\\s()<>]+|\\(([^\\s()<>]+|(\\([^\\s()<>]+\\)))*\\))+(?:\\(([^\\s()<>]+|(\\([^\\s()<>]+\\)))*\\)|[^\\s`!()\\[\\]{};:\\'\".,<>?«»“”‘’]))',' ',tempString)\n",
    "                    #get all A to Z\n",
    "                    tempString = re.sub(r\"[^A-Za-z ]+\", ' ', tempString)\n",
    "                    listOfWords = tempString.split()\n",
    "                    newList = []\n",
    "                    for word in listOfWords:\n",
    "                        if word not in stopWords:\n",
    "                            newList.append(p.stem(word))\n",
    "                    tempString = \" \".join(str(x) for x in newList) \n",
    "                    formattedTweets.append(tempString)\n",
    "                    classes.append(label)\n",
    "          return formattedTweets,classes"
   ]
  },
  {
   "cell_type": "code",
   "execution_count": 12,
   "id": "74ae5af6",
   "metadata": {},
   "outputs": [
    {
     "ename": "SyntaxError",
     "evalue": "invalid syntax (Temp/ipykernel_4120/3646320347.py, line 3)",
     "output_type": "error",
     "traceback": [
      "\u001b[1;36m  File \u001b[1;32m\"C:\\Users\\Lenovo\\AppData\\Local\\Temp/ipykernel_4120/3646320347.py\"\u001b[1;36m, line \u001b[1;32m3\u001b[0m\n\u001b[1;33m    XTrainTF =\u001b[0m\n\u001b[1;37m              ^\u001b[0m\n\u001b[1;31mSyntaxError\u001b[0m\u001b[1;31m:\u001b[0m invalid syntax\n"
     ]
    }
   ],
   "source": [
    "countVector = CountVectorizer()\n",
    "XTrainCount = countVector.fit_transform(tweets)\n",
    "XTrainTF =\n",
    "TfidfTransformer(use_idf=False).fit(XTrainCount).transform(XTrainCount)\n",
    "tfidf_transformer = TfidfTransformer()\n",
    "XTrainTFIDF = tfidf_transformer.fit_transform(XTrainCount)\n"
   ]
  },
  {
   "cell_type": "code",
   "execution_count": null,
   "id": "22488702",
   "metadata": {},
   "outputs": [],
   "source": []
  }
 ],
 "metadata": {
  "kernelspec": {
   "display_name": "Python 3 (ipykernel)",
   "language": "python",
   "name": "python3"
  },
  "language_info": {
   "codemirror_mode": {
    "name": "ipython",
    "version": 3
   },
   "file_extension": ".py",
   "mimetype": "text/x-python",
   "name": "python",
   "nbconvert_exporter": "python",
   "pygments_lexer": "ipython3",
   "version": "3.9.7"
  }
 },
 "nbformat": 4,
 "nbformat_minor": 5
}
